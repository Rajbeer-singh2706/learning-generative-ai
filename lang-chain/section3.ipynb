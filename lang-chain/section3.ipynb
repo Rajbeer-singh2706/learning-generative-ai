{
 "cells": [
  {
   "cell_type": "code",
   "execution_count": null,
   "metadata": {},
   "outputs": [],
   "source": [
    "# Section 3: ICe Breaker - What are we building here?"
   ]
  },
  {
   "cell_type": "code",
   "execution_count": 2,
   "metadata": {},
   "outputs": [],
   "source": [
    "# 15. Integrating LinkedIn data Processing - Part1 Scaring\n",
    "# https://github.com/emarco177/ice_breaker\n",
    "\n",
    "#branch: 2;linkedin-scaping-finish\n",
    "\n",
    "\n",
    "## First see the video, develop the code , then see the video again\n"
   ]
  },
  {
   "cell_type": "code",
   "execution_count": 4,
   "metadata": {},
   "outputs": [
    {
     "data": {
      "text/plain": [
       "'\\n - Hugging Face \\n - OPen AI \\n\\n - LANG Chain\\n\\n - Twitter\\n - Linkein\\n - Google\\n - Wikipedia\\n'"
      ]
     },
     "execution_count": 4,
     "metadata": {},
     "output_type": "execute_result"
    }
   ],
   "source": [
    "# 16. Linkedin Data Processing - Part2 - Agents Theory\n",
    "'''\n",
    " - Hugging Face \n",
    " - OPen AI \n",
    "\n",
    " - LANG Chain\n",
    "\n",
    " - Twitter\n",
    " - Linkein\n",
    " - Google\n",
    " - Wikipedia\n",
    "'''\n",
    "\n",
    "## Q) What is agents ?\n",
    "## Q) "
   ]
  },
  {
   "cell_type": "code",
   "execution_count": 5,
   "metadata": {},
   "outputs": [
    {
     "data": {
      "text/plain": [
       "'\\n Branch : 2-search-agent-start \\n\\n : I will also create branch and implement in that branch only\\n'"
      ]
     },
     "execution_count": 5,
     "metadata": {},
     "output_type": "execute_result"
    }
   ],
   "source": [
    "# 17. LinkedIN Data Processing - Part 3: Tools, Agent Executor, create_react_agent => Pending \n",
    "'''\n",
    " Branch : 2-search-agent-start \n",
    "\n",
    " : I will also create branch and implement in that branch only\n",
    "'''\n",
    "\n",
    "## Create a package : agents \n",
    "     #* linkedin_lookup_agent.py "
   ]
  },
  {
   "cell_type": "code",
   "execution_count": 6,
   "metadata": {},
   "outputs": [
    {
     "data": {
      "text/plain": [
       "'\\n# GPT Models \\n    * gpt-3.5-turbo\\n    * gpt-4o-mini\\n\\n# TAVILY AI \\n'"
      ]
     },
     "execution_count": 6,
     "metadata": {},
     "output_type": "execute_result"
    }
   ],
   "source": [
    "# 18. LinkedIN Data Processing - Part 4: Custom Search Agenent Implementation => Pending \n",
    "'''\n",
    "# GPT Models \n",
    "    * gpt-3.5-turbo\n",
    "    * gpt-4o-mini\n",
    "\n",
    "# TAVILY AI \n",
    "'''"
   ]
  },
  {
   "cell_type": "code",
   "execution_count": null,
   "metadata": {},
   "outputs": [],
   "source": [
    "# 19 . LinkedIN Data Processing- Part 5: Custom Search Agent testing\n",
    "'''\n",
    "\n",
    "'''"
   ]
  }
 ],
 "metadata": {
  "kernelspec": {
   "display_name": "upgrad_env",
   "language": "python",
   "name": "python3"
  },
  "language_info": {
   "codemirror_mode": {
    "name": "ipython",
    "version": 3
   },
   "file_extension": ".py",
   "mimetype": "text/x-python",
   "name": "python",
   "nbconvert_exporter": "python",
   "pygments_lexer": "ipython3",
   "version": "3.9.6"
  }
 },
 "nbformat": 4,
 "nbformat_minor": 2
}
