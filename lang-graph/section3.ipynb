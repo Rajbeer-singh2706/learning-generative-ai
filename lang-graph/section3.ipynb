{
 "cells": [
  {
   "cell_type": "markdown",
   "metadata": {},
   "source": [
    "### **Section 3: Reflexion Agent**"
   ]
  },
  {
   "cell_type": "code",
   "execution_count": null,
   "metadata": {},
   "outputs": [],
   "source": [
    "#### **15. What are we building.**\n",
    "'''\n",
    " - Reflexion Agent\n",
    " - Tavily Search engine\n",
    " - Function Calling\n",
    " - Advanced Prompting Techniques\n",
    "'''\n",
    "# https://blog.langchain.dev/reflection-agents/\n",
    "# https://arxiv.org/pdf/2303.11366\n",
    "# https://tavily.com/\n",
    "\n",
    "# What we will use \n",
    "'''\n",
    "  1. OpenAI GPT 4 Turbo\n",
    "  2. Function Calling\n",
    "  3. Tavily Search Engine\n",
    "  4. LangSmith => Tracing \n",
    "'''"
   ]
  },
  {
   "cell_type": "code",
   "execution_count": 1,
   "metadata": {},
   "outputs": [
    {
     "data": {
      "text/plain": [
       "'\\n - Create Project Directory\\n - Create Poetry  virtual Enviorment\\n - Install Dependencies\\n - Configure Pycharm\\n - Load Envrioment variable(OPEN AI Key,LangSmith API KEy)\\n'"
      ]
     },
     "execution_count": 1,
     "metadata": {},
     "output_type": "execute_result"
    }
   ],
   "source": [
    "## 16. Project Setup\n",
    "'''\n",
    " - Create Project Directory\n",
    " - Create Poetry  virtual Enviorment\n",
    " - Install Dependencies\n",
    " - Configure Pycharm\n",
    " - Load Envrioment variable(OPEN AI Key,LangSmith API KEy)\n",
    "'''"
   ]
  },
  {
   "cell_type": "code",
   "execution_count": 2,
   "metadata": {},
   "outputs": [],
   "source": [
    "## 17. Actor Agent"
   ]
  },
  {
   "cell_type": "code",
   "execution_count": 3,
   "metadata": {},
   "outputs": [],
   "source": [
    "## 18. Revisor Agent"
   ]
  },
  {
   "cell_type": "code",
   "execution_count": 4,
   "metadata": {},
   "outputs": [],
   "source": [
    "## 19. Tool Executor Agent(Part A)"
   ]
  },
  {
   "cell_type": "code",
   "execution_count": 5,
   "metadata": {},
   "outputs": [],
   "source": [
    "## 20. Tool Executor Agent(Part B)"
   ]
  },
  {
   "cell_type": "code",
   "execution_count": 6,
   "metadata": {},
   "outputs": [],
   "source": [
    "## 21. Tool Executor Agent(Part C) "
   ]
  },
  {
   "cell_type": "code",
   "execution_count": null,
   "metadata": {},
   "outputs": [],
   "source": [
    "## 22. Build our LangGraph Graph"
   ]
  }
 ],
 "metadata": {
  "kernelspec": {
   "display_name": "upgrad_env",
   "language": "python",
   "name": "python3"
  },
  "language_info": {
   "codemirror_mode": {
    "name": "ipython",
    "version": 3
   },
   "file_extension": ".py",
   "mimetype": "text/x-python",
   "name": "python",
   "nbconvert_exporter": "python",
   "pygments_lexer": "ipython3",
   "version": "3.9.6"
  }
 },
 "nbformat": 4,
 "nbformat_minor": 2
}
