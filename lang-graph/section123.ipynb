{
 "cells": [
  {
   "cell_type": "code",
   "execution_count": null,
   "metadata": {},
   "outputs": [],
   "source": [
    "# https://tigeranalytics.udemy.com/course/langgraph/learn/lecture/43446194?start=0#overview"
   ]
  },
  {
   "cell_type": "markdown",
   "metadata": {},
   "source": [
    "###  **Section 1: Introduction**"
   ]
  },
  {
   "cell_type": "code",
   "execution_count": 2,
   "metadata": {},
   "outputs": [
    {
     "data": {
      "text/plain": [
       "'\\n * Building Language as GRAPH\\n'"
      ]
     },
     "execution_count": 2,
     "metadata": {},
     "output_type": "execute_result"
    }
   ],
   "source": [
    "# What is Lang Graph\n",
    "'''\n",
    " * Building Language as GRAPH\n",
    "'''"
   ]
  },
  {
   "cell_type": "code",
   "execution_count": null,
   "metadata": {},
   "outputs": [],
   "source": [
    "# 5. Why LangGraph and AI Agents Applications\n",
    "'''\n",
    "HUMAN DRIVERN           1. Code \n",
    "                        2. LLM Call         : One Step only \n",
    "                        3. Chain            : Multilple steps\n",
    "                        4. Router           : no Cycles \n",
    "AGENT-EXECUTED          5. State Machine    : Cycle  [ LangGraph]\n",
    "                        6. Autonomous       : \n",
    "\n",
    " # Agent = Control flow controlled by an LLM \n",
    "\n",
    "'''\n",
    "\n",
    "# AGENT VS CHAIN "
   ]
  },
  {
   "cell_type": "code",
   "execution_count": null,
   "metadata": {},
   "outputs": [],
   "source": [
    "# 6. But Wait .. What are Graphs\n",
    "'''\n",
    " * GRAPH \n",
    "   [\n",
    "     Vertices \n",
    "     Edges\n",
    "   ]\n",
    "* State Machine \n",
    "\n",
    "'''"
   ]
  },
  {
   "cell_type": "code",
   "execution_count": 1,
   "metadata": {},
   "outputs": [],
   "source": [
    "# 7. Flow Engineering \n",
    "'''\n",
    " The Nea Future \n",
    " - 60% Flow Enginnering\n",
    " - 35% tuning \n",
    " - 5% promprt Enginnering\n",
    "'''"
   ]
  },
  {
   "cell_type": "code",
   "execution_count": null,
   "metadata": {},
   "outputs": [],
   "source": [
    "# 8. LangGraph Core Components \n",
    "'''\n",
    " - Node \n",
    " - Edges \n",
    " - Conditional Edges\n",
    " - Cyclic Graph\n",
    " - Human In the Loop\n",
    " - Persistence\n",
    "'''"
   ]
  },
  {
   "cell_type": "markdown",
   "metadata": {},
   "source": [
    "#### **SECTION 2: REFLECTION AGENT**"
   ]
  },
  {
   "cell_type": "code",
   "execution_count": 2,
   "metadata": {},
   "outputs": [
    {
     "data": {
      "text/plain": [
       "'\\nhttps://blog.langchain.dev/reflection-agents/ \\n'"
      ]
     },
     "execution_count": 2,
     "metadata": {},
     "output_type": "execute_result"
    }
   ],
   "source": [
    "# What are Buildigs\n",
    "'''\n",
    "https://blog.langchain.dev/reflection-agents/ \n",
    "'''"
   ]
  },
  {
   "cell_type": "code",
   "execution_count": null,
   "metadata": {},
   "outputs": [],
   "source": [
    "#10.  Project Setup: pending \n",
    "'''\n",
    " - Create Project Directory\n",
    " - Create Poetry  virtual Enviorment\n",
    " - Install Dependencies\n",
    " - Configure Pycharm\n",
    " - Load Envrioment variable(OPEN AI,LangSmith API KEy)\n",
    "'''\n",
    "# URL : # https://python-poetry.org/docs/"
   ]
  },
  {
   "cell_type": "code",
   "execution_count": null,
   "metadata": {},
   "outputs": [],
   "source": [
    "# cd /Users/rajsingh/work/repos-new/learning-generative-ai/relection-agent\n",
    "# poetry init\n",
    "# poetry add python-dotenv black isort langchain langchain-openai langgraph grandalf\n",
    "  # ** Creating virtualenv lang-graph-0gvFCOm1-py3.9 in /Users/rajsingh/Library/Caches/pypoetry/virtualenvs\n",
    "\n",
    "# poetry add langchain-ollama\n",
    "\n",
    "#"
   ]
  },
  {
   "cell_type": "code",
   "execution_count": null,
   "metadata": {},
   "outputs": [],
   "source": [
    "# 11. Creating the Reflector Chain and the Tweet Reviosr Chain\n",
    "'''\n",
    "  - 1. reflection prompt \n",
    "  - 2. generation_prompt\n",
    "'''"
   ]
  },
  {
   "cell_type": "code",
   "execution_count": 1,
   "metadata": {},
   "outputs": [],
   "source": [
    "# 12. Defining our LangGraph Graph\n",
    "'''\n",
    "- Build Graph \n",
    "'''"
   ]
  },
  {
   "cell_type": "code",
   "execution_count": 2,
   "metadata": {},
   "outputs": [],
   "source": [
    "# 13. LangSmith Tracing"
   ]
  },
  {
   "cell_type": "code",
   "execution_count": null,
   "metadata": {},
   "outputs": [],
   "source": [
    "# 13. Personal Message"
   ]
  },
  {
   "cell_type": "markdown",
   "metadata": {},
   "source": [
    "### **Section 3: Reflection Agent**"
   ]
  },
  {
   "cell_type": "markdown",
   "metadata": {},
   "source": []
  }
 ],
 "metadata": {
  "kernelspec": {
   "display_name": "upgrad_env",
   "language": "python",
   "name": "python3"
  },
  "language_info": {
   "codemirror_mode": {
    "name": "ipython",
    "version": 3
   },
   "file_extension": ".py",
   "mimetype": "text/x-python",
   "name": "python",
   "nbconvert_exporter": "python",
   "pygments_lexer": "ipython3",
   "version": "3.9.6"
  }
 },
 "nbformat": 4,
 "nbformat_minor": 2
}
