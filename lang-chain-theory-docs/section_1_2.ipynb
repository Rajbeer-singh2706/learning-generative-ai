{
 "cells": [
  {
   "cell_type": "code",
   "execution_count": 1,
   "metadata": {},
   "outputs": [],
   "source": [
    "#https://tigeranalytics.udemy.com/course/langchain/learn/lecture/37474628#overview\n",
    "# https://github.com/emarco177/ice_breaker\n",
    "\n",
    "# Lang Chain Documentation \n",
    "'''\n",
    " https://python.langchain.com/docs/introduction/\n",
    "'''"
   ]
  },
  {
   "cell_type": "markdown",
   "metadata": {},
   "source": [
    "### **Section 1: Introduction**"
   ]
  },
  {
   "cell_type": "code",
   "execution_count": null,
   "metadata": {},
   "outputs": [],
   "source": [
    "'''\n",
    " * Course Introduction \n",
    "\n",
    "'''\n",
    "# Course Objectives\n",
    "'''\n",
    "- Agents\n",
    "- Retrieval Augmentation Generation(RAG)\n",
    "\n",
    "'''"
   ]
  },
  {
   "cell_type": "markdown",
   "metadata": {},
   "source": [
    "### **Section 2: The GIST of LangChain - Get started by with your \"Hello World\" chain**"
   ]
  },
  {
   "cell_type": "code",
   "execution_count": 1,
   "metadata": {},
   "outputs": [],
   "source": [
    "# What is Lang Chain?"
   ]
  },
  {
   "cell_type": "code",
   "execution_count": 1,
   "metadata": {},
   "outputs": [
    {
     "data": {
      "text/plain": [
       "'\\n $ echo \\n $ git clone -b 1-start-here https://github.com/emarco177/ice_breaker \\n $ cd ice_breaker\\n $ pipenv shell\\n   * Location : /Users/rajsingh/.local/share/virtualenvs/ice_breaker-Ik0QB-5z\\n $ source /Users/rajsingh/.local/share/virtualenvs/ice_breaker-Ik0QB-5z/bin/activate\\n\\n $ pipenv install langchain\\n $ pipenv install langchain-openai\\n $ pipenv install langchain-community\\n $ pipenv install langchainhub\\n $ pipenv install black \\n $ pip3 install python-dotenv\\n'"
      ]
     },
     "execution_count": 1,
     "metadata": {},
     "output_type": "execute_result"
    }
   ],
   "source": [
    "# Setup in VSCODE \n",
    "# /Users/rajsingh/work/repos-new/learning-generative-ai\n",
    "\n",
    "# pip3 install pipenv\n",
    "'''\n",
    " $ echo \n",
    " $ git clone -b 1-start-here https://github.com/emarco177/ice_breaker \n",
    " $ cd ice_breaker\n",
    " $ pipenv shell\n",
    "   * Location : /Users/rajsingh/.local/share/virtualenvs/ice_breaker-Ik0QB-5z\n",
    " $ source /Users/rajsingh/.local/share/virtualenvs/ice_breaker-Ik0QB-5z/bin/activate\n",
    "\n",
    " $ pipenv install langchain\n",
    " $ pipenv install langchain-openai\n",
    " $ pipenv install langchain-community\n",
    " $ pipenv install langchainhub\n",
    " $ pipenv install black \n",
    " $ pip3 install python-dotenv\n",
    "'''"
   ]
  },
  {
   "cell_type": "code",
   "execution_count": null,
   "metadata": {},
   "outputs": [],
   "source": [
    "# 11. Using open source Model with LangChain(Ollama,LLama3, Mistral)\n",
    "# Download ollama\n",
    "# ollama run llama3.2\n",
    "# ollama pull mistral\n",
    "\n",
    "'''\n",
    "$ pipenv install langchain-ollama\n",
    "'''"
   ]
  }
 ],
 "metadata": {
  "kernelspec": {
   "display_name": "upgrad_env",
   "language": "python",
   "name": "python3"
  },
  "language_info": {
   "codemirror_mode": {
    "name": "ipython",
    "version": 3
   },
   "file_extension": ".py",
   "mimetype": "text/x-python",
   "name": "python",
   "nbconvert_exporter": "python",
   "pygments_lexer": "ipython3",
   "version": "3.9.6"
  }
 },
 "nbformat": 4,
 "nbformat_minor": 2
}
