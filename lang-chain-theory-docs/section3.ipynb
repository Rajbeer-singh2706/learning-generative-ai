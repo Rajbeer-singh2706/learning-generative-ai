{
 "cells": [
  {
   "cell_type": "code",
   "execution_count": null,
   "metadata": {},
   "outputs": [],
   "source": [
    "# Section 3: ICe Breaker - What are we building here?"
   ]
  },
  {
   "cell_type": "code",
   "execution_count": null,
   "metadata": {},
   "outputs": [],
   "source": [
    "# 15. Integrating LinkedIn data Processing - Part1 Scaring\n",
    "\n",
    "\n",
    "-- pending to develop \n",
    "# https://github.com/emarco177/ice_breaker\n",
    "\n",
    "branch: 2;linkedin-scaping-finish\n",
    "\n",
    "\n",
    "## First see the video, develop the code , then see the video again\n"
   ]
  }
 ],
 "metadata": {
  "kernelspec": {
   "display_name": "upgrad_env",
   "language": "python",
   "name": "python3"
  },
  "language_info": {
   "name": "python",
   "version": "3.9.6"
  }
 },
 "nbformat": 4,
 "nbformat_minor": 2
}
